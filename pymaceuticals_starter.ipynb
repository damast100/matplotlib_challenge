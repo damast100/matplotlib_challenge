{
 "cells": [
  {
   "cell_type": "markdown",
   "metadata": {},
   "source": [
    "## Observations and Insights "
   ]
  },
  {
   "cell_type": "markdown",
   "metadata": {},
   "source": [
    "1. Based on the scatter plot that was plotted comparing the weight and the tumor volume and correlation value calculated, it is safe to say that as the weight of the mouse increase, the tumor volume size increased as well. The correlation value for this calculation was 0.84 which provides enough information to say that these two are correlated.\n",
    "\n",
    "2. The one mouse that was analyzed in the line graph for Capomulin showed that as more time passed, the smaller the tumor was on the mouse. Based on this, we can assume that Capomulin will help reduce the tumor size if it stays on the mouse for a longer period of time.\n",
    "\n",
    "3. Based on the summary statistics, we can see that Capomulin and Ramicane have the smallest variance. This means that the data provided for these two drugs are more accurately portrayed by using the mean calculation compared to some of the other drugs that have larger variances."
   ]
  },
  {
   "cell_type": "code",
   "execution_count": 1,
   "metadata": {},
   "outputs": [
    {
     "data": {
      "text/html": [
       "<div>\n",
       "<style scoped>\n",
       "    .dataframe tbody tr th:only-of-type {\n",
       "        vertical-align: middle;\n",
       "    }\n",
       "\n",
       "    .dataframe tbody tr th {\n",
       "        vertical-align: top;\n",
       "    }\n",
       "\n",
       "    .dataframe thead th {\n",
       "        text-align: right;\n",
       "    }\n",
       "</style>\n",
       "<table border=\"1\" class=\"dataframe\">\n",
       "  <thead>\n",
       "    <tr style=\"text-align: right;\">\n",
       "      <th></th>\n",
       "      <th>Mouse ID</th>\n",
       "      <th>Drug Regimen</th>\n",
       "      <th>Sex</th>\n",
       "      <th>Age_months</th>\n",
       "      <th>Weight (g)</th>\n",
       "      <th>Timepoint</th>\n",
       "      <th>Tumor Volume (mm3)</th>\n",
       "      <th>Metastatic Sites</th>\n",
       "    </tr>\n",
       "  </thead>\n",
       "  <tbody>\n",
       "    <tr>\n",
       "      <th>0</th>\n",
       "      <td>k403</td>\n",
       "      <td>Ramicane</td>\n",
       "      <td>Male</td>\n",
       "      <td>21</td>\n",
       "      <td>16</td>\n",
       "      <td>0</td>\n",
       "      <td>45.000000</td>\n",
       "      <td>0</td>\n",
       "    </tr>\n",
       "    <tr>\n",
       "      <th>1</th>\n",
       "      <td>k403</td>\n",
       "      <td>Ramicane</td>\n",
       "      <td>Male</td>\n",
       "      <td>21</td>\n",
       "      <td>16</td>\n",
       "      <td>5</td>\n",
       "      <td>38.825898</td>\n",
       "      <td>0</td>\n",
       "    </tr>\n",
       "    <tr>\n",
       "      <th>2</th>\n",
       "      <td>k403</td>\n",
       "      <td>Ramicane</td>\n",
       "      <td>Male</td>\n",
       "      <td>21</td>\n",
       "      <td>16</td>\n",
       "      <td>10</td>\n",
       "      <td>35.014271</td>\n",
       "      <td>1</td>\n",
       "    </tr>\n",
       "    <tr>\n",
       "      <th>3</th>\n",
       "      <td>k403</td>\n",
       "      <td>Ramicane</td>\n",
       "      <td>Male</td>\n",
       "      <td>21</td>\n",
       "      <td>16</td>\n",
       "      <td>15</td>\n",
       "      <td>34.223992</td>\n",
       "      <td>1</td>\n",
       "    </tr>\n",
       "    <tr>\n",
       "      <th>4</th>\n",
       "      <td>k403</td>\n",
       "      <td>Ramicane</td>\n",
       "      <td>Male</td>\n",
       "      <td>21</td>\n",
       "      <td>16</td>\n",
       "      <td>20</td>\n",
       "      <td>32.997729</td>\n",
       "      <td>1</td>\n",
       "    </tr>\n",
       "  </tbody>\n",
       "</table>\n",
       "</div>"
      ],
      "text/plain": [
       "  Mouse ID Drug Regimen   Sex  Age_months  Weight (g)  Timepoint  \\\n",
       "0     k403     Ramicane  Male          21          16          0   \n",
       "1     k403     Ramicane  Male          21          16          5   \n",
       "2     k403     Ramicane  Male          21          16         10   \n",
       "3     k403     Ramicane  Male          21          16         15   \n",
       "4     k403     Ramicane  Male          21          16         20   \n",
       "\n",
       "   Tumor Volume (mm3)  Metastatic Sites  \n",
       "0           45.000000                 0  \n",
       "1           38.825898                 0  \n",
       "2           35.014271                 1  \n",
       "3           34.223992                 1  \n",
       "4           32.997729                 1  "
      ]
     },
     "execution_count": 1,
     "metadata": {},
     "output_type": "execute_result"
    }
   ],
   "source": [
    "# Dependencies and Setup\n",
    "import matplotlib.pyplot as plt\n",
    "import pandas as pd\n",
    "from scipy.stats import linregress\n",
    "from scipy import stats\n",
    "import numpy as np\n",
    "import scipy.stats as st\n",
    "\n",
    "# Study data files\n",
    "mouse_metadata_path = \"C:\\\\Users\\\\Derek\\\\Desktop\\\\matplotlib_challenge\\\\\\\\Mouse_metadata.csv\"\n",
    "study_results_path = \"C:\\\\Users\\\\Derek\\\\Desktop\\\\matplotlib_challenge\\\\\\\\Study_results.csv\"\n",
    "\n",
    "# Read the mouse data and the study results\n",
    "mouse_metadata = pd.read_csv(mouse_metadata_path)\n",
    "study_results = pd.read_csv(study_results_path)\n",
    "\n",
    "# Combine the data into a single dataset\n",
    "merged_df = pd.merge(mouse_metadata, study_results, on=\"Mouse ID\", how=\"outer\")\n",
    "# Display the data table for preview\n",
    "merged_df.head()"
   ]
  },
  {
   "cell_type": "code",
   "execution_count": 2,
   "metadata": {},
   "outputs": [
    {
     "data": {
      "text/plain": [
       "249"
      ]
     },
     "execution_count": 2,
     "metadata": {},
     "output_type": "execute_result"
    }
   ],
   "source": [
    "# Checking the number of mice.\n",
    "mice = merged_df[\"Mouse ID\"].unique()\n",
    "number_of_mice = len(mice)\n",
    "number_of_mice             "
   ]
  },
  {
   "cell_type": "code",
   "execution_count": 3,
   "metadata": {},
   "outputs": [
    {
     "data": {
      "text/html": [
       "<div>\n",
       "<style scoped>\n",
       "    .dataframe tbody tr th:only-of-type {\n",
       "        vertical-align: middle;\n",
       "    }\n",
       "\n",
       "    .dataframe tbody tr th {\n",
       "        vertical-align: top;\n",
       "    }\n",
       "\n",
       "    .dataframe thead th {\n",
       "        text-align: right;\n",
       "    }\n",
       "</style>\n",
       "<table border=\"1\" class=\"dataframe\">\n",
       "  <thead>\n",
       "    <tr style=\"text-align: right;\">\n",
       "      <th></th>\n",
       "      <th>Mouse ID</th>\n",
       "      <th>Drug Regimen</th>\n",
       "      <th>Sex</th>\n",
       "      <th>Age_months</th>\n",
       "      <th>Weight (g)</th>\n",
       "      <th>Timepoint</th>\n",
       "      <th>Tumor Volume (mm3)</th>\n",
       "      <th>Metastatic Sites</th>\n",
       "    </tr>\n",
       "  </thead>\n",
       "  <tbody>\n",
       "    <tr>\n",
       "      <th>909</th>\n",
       "      <td>g989</td>\n",
       "      <td>Propriva</td>\n",
       "      <td>Female</td>\n",
       "      <td>21</td>\n",
       "      <td>26</td>\n",
       "      <td>0</td>\n",
       "      <td>45.000000</td>\n",
       "      <td>0</td>\n",
       "    </tr>\n",
       "    <tr>\n",
       "      <th>911</th>\n",
       "      <td>g989</td>\n",
       "      <td>Propriva</td>\n",
       "      <td>Female</td>\n",
       "      <td>21</td>\n",
       "      <td>26</td>\n",
       "      <td>5</td>\n",
       "      <td>47.570392</td>\n",
       "      <td>0</td>\n",
       "    </tr>\n",
       "    <tr>\n",
       "      <th>913</th>\n",
       "      <td>g989</td>\n",
       "      <td>Propriva</td>\n",
       "      <td>Female</td>\n",
       "      <td>21</td>\n",
       "      <td>26</td>\n",
       "      <td>10</td>\n",
       "      <td>49.880528</td>\n",
       "      <td>0</td>\n",
       "    </tr>\n",
       "    <tr>\n",
       "      <th>915</th>\n",
       "      <td>g989</td>\n",
       "      <td>Propriva</td>\n",
       "      <td>Female</td>\n",
       "      <td>21</td>\n",
       "      <td>26</td>\n",
       "      <td>15</td>\n",
       "      <td>53.442020</td>\n",
       "      <td>0</td>\n",
       "    </tr>\n",
       "    <tr>\n",
       "      <th>917</th>\n",
       "      <td>g989</td>\n",
       "      <td>Propriva</td>\n",
       "      <td>Female</td>\n",
       "      <td>21</td>\n",
       "      <td>26</td>\n",
       "      <td>20</td>\n",
       "      <td>54.657650</td>\n",
       "      <td>1</td>\n",
       "    </tr>\n",
       "  </tbody>\n",
       "</table>\n",
       "</div>"
      ],
      "text/plain": [
       "    Mouse ID Drug Regimen     Sex  Age_months  Weight (g)  Timepoint  \\\n",
       "909     g989     Propriva  Female          21          26          0   \n",
       "911     g989     Propriva  Female          21          26          5   \n",
       "913     g989     Propriva  Female          21          26         10   \n",
       "915     g989     Propriva  Female          21          26         15   \n",
       "917     g989     Propriva  Female          21          26         20   \n",
       "\n",
       "     Tumor Volume (mm3)  Metastatic Sites  \n",
       "909           45.000000                 0  \n",
       "911           47.570392                 0  \n",
       "913           49.880528                 0  \n",
       "915           53.442020                 0  \n",
       "917           54.657650                 1  "
      ]
     },
     "execution_count": 3,
     "metadata": {},
     "output_type": "execute_result"
    }
   ],
   "source": [
    "# Getting the duplicate mice by ID number that shows up for Mouse ID and Timepoint.\n",
    "duplicate_mice = merged_df[merged_df.duplicated([\"Mouse ID\", \"Timepoint\"])]\n",
    "duplicate_mice"
   ]
  },
  {
   "cell_type": "code",
   "execution_count": 4,
   "metadata": {},
   "outputs": [],
   "source": [
    "# Create a clean DataFrame by dropping the duplicate mouse by its ID.\n",
    "cleaned_mice_df = merged_df[merged_df[\"Mouse ID\"] != \"g989\"]"
   ]
  },
  {
   "cell_type": "code",
   "execution_count": 5,
   "metadata": {},
   "outputs": [
    {
     "data": {
      "text/plain": [
       "248"
      ]
     },
     "execution_count": 5,
     "metadata": {},
     "output_type": "execute_result"
    }
   ],
   "source": [
    "# Checking the number of mice in the clean DataFrame.\n",
    "len(cleaned_mice_df[\"Mouse ID\"].unique())"
   ]
  },
  {
   "cell_type": "markdown",
   "metadata": {},
   "source": [
    "## Summary Statistics"
   ]
  },
  {
   "cell_type": "code",
   "execution_count": 6,
   "metadata": {},
   "outputs": [
    {
     "data": {
      "text/html": [
       "<div>\n",
       "<style scoped>\n",
       "    .dataframe tbody tr th:only-of-type {\n",
       "        vertical-align: middle;\n",
       "    }\n",
       "\n",
       "    .dataframe tbody tr th {\n",
       "        vertical-align: top;\n",
       "    }\n",
       "\n",
       "    .dataframe thead th {\n",
       "        text-align: right;\n",
       "    }\n",
       "</style>\n",
       "<table border=\"1\" class=\"dataframe\">\n",
       "  <thead>\n",
       "    <tr style=\"text-align: right;\">\n",
       "      <th></th>\n",
       "      <th>Mean(Tumor Volume)</th>\n",
       "      <th>Median(Tumor Volume)</th>\n",
       "      <th>Variance(Tumor Volume)</th>\n",
       "      <th>Standard Deviation(Tumor Volume)</th>\n",
       "      <th>SEM(Tumor Volume)</th>\n",
       "    </tr>\n",
       "    <tr>\n",
       "      <th>Drug Regimen</th>\n",
       "      <th></th>\n",
       "      <th></th>\n",
       "      <th></th>\n",
       "      <th></th>\n",
       "      <th></th>\n",
       "    </tr>\n",
       "  </thead>\n",
       "  <tbody>\n",
       "    <tr>\n",
       "      <th>Capomulin</th>\n",
       "      <td>40.676</td>\n",
       "      <td>41.558</td>\n",
       "      <td>24.948</td>\n",
       "      <td>4.995</td>\n",
       "      <td>0.329</td>\n",
       "    </tr>\n",
       "    <tr>\n",
       "      <th>Ceftamin</th>\n",
       "      <td>52.591</td>\n",
       "      <td>51.776</td>\n",
       "      <td>39.290</td>\n",
       "      <td>6.268</td>\n",
       "      <td>0.470</td>\n",
       "    </tr>\n",
       "    <tr>\n",
       "      <th>Infubinol</th>\n",
       "      <td>52.885</td>\n",
       "      <td>51.821</td>\n",
       "      <td>43.129</td>\n",
       "      <td>6.567</td>\n",
       "      <td>0.492</td>\n",
       "    </tr>\n",
       "    <tr>\n",
       "      <th>Ketapril</th>\n",
       "      <td>55.236</td>\n",
       "      <td>53.699</td>\n",
       "      <td>68.554</td>\n",
       "      <td>8.280</td>\n",
       "      <td>0.604</td>\n",
       "    </tr>\n",
       "    <tr>\n",
       "      <th>Naftisol</th>\n",
       "      <td>54.332</td>\n",
       "      <td>52.509</td>\n",
       "      <td>66.173</td>\n",
       "      <td>8.135</td>\n",
       "      <td>0.596</td>\n",
       "    </tr>\n",
       "    <tr>\n",
       "      <th>Placebo</th>\n",
       "      <td>54.034</td>\n",
       "      <td>52.289</td>\n",
       "      <td>61.168</td>\n",
       "      <td>7.821</td>\n",
       "      <td>0.581</td>\n",
       "    </tr>\n",
       "    <tr>\n",
       "      <th>Propriva</th>\n",
       "      <td>52.321</td>\n",
       "      <td>50.446</td>\n",
       "      <td>43.852</td>\n",
       "      <td>6.622</td>\n",
       "      <td>0.544</td>\n",
       "    </tr>\n",
       "    <tr>\n",
       "      <th>Ramicane</th>\n",
       "      <td>40.217</td>\n",
       "      <td>40.673</td>\n",
       "      <td>23.487</td>\n",
       "      <td>4.846</td>\n",
       "      <td>0.321</td>\n",
       "    </tr>\n",
       "    <tr>\n",
       "      <th>Stelasyn</th>\n",
       "      <td>54.233</td>\n",
       "      <td>52.432</td>\n",
       "      <td>59.451</td>\n",
       "      <td>7.710</td>\n",
       "      <td>0.573</td>\n",
       "    </tr>\n",
       "    <tr>\n",
       "      <th>Zoniferol</th>\n",
       "      <td>53.237</td>\n",
       "      <td>51.818</td>\n",
       "      <td>48.533</td>\n",
       "      <td>6.967</td>\n",
       "      <td>0.516</td>\n",
       "    </tr>\n",
       "  </tbody>\n",
       "</table>\n",
       "</div>"
      ],
      "text/plain": [
       "              Mean(Tumor Volume)  Median(Tumor Volume)  \\\n",
       "Drug Regimen                                             \n",
       "Capomulin                 40.676                41.558   \n",
       "Ceftamin                  52.591                51.776   \n",
       "Infubinol                 52.885                51.821   \n",
       "Ketapril                  55.236                53.699   \n",
       "Naftisol                  54.332                52.509   \n",
       "Placebo                   54.034                52.289   \n",
       "Propriva                  52.321                50.446   \n",
       "Ramicane                  40.217                40.673   \n",
       "Stelasyn                  54.233                52.432   \n",
       "Zoniferol                 53.237                51.818   \n",
       "\n",
       "              Variance(Tumor Volume)  Standard Deviation(Tumor Volume)  \\\n",
       "Drug Regimen                                                             \n",
       "Capomulin                     24.948                             4.995   \n",
       "Ceftamin                      39.290                             6.268   \n",
       "Infubinol                     43.129                             6.567   \n",
       "Ketapril                      68.554                             8.280   \n",
       "Naftisol                      66.173                             8.135   \n",
       "Placebo                       61.168                             7.821   \n",
       "Propriva                      43.852                             6.622   \n",
       "Ramicane                      23.487                             4.846   \n",
       "Stelasyn                      59.451                             7.710   \n",
       "Zoniferol                     48.533                             6.967   \n",
       "\n",
       "              SEM(Tumor Volume)  \n",
       "Drug Regimen                     \n",
       "Capomulin                 0.329  \n",
       "Ceftamin                  0.470  \n",
       "Infubinol                 0.492  \n",
       "Ketapril                  0.604  \n",
       "Naftisol                  0.596  \n",
       "Placebo                   0.581  \n",
       "Propriva                  0.544  \n",
       "Ramicane                  0.321  \n",
       "Stelasyn                  0.573  \n",
       "Zoniferol                 0.516  "
      ]
     },
     "execution_count": 6,
     "metadata": {},
     "output_type": "execute_result"
    }
   ],
   "source": [
    "# Generate a summary statistics table of mean, median, variance, standard deviation, and SEM of the tumor volume for each regimen\n",
    "\n",
    "# Use groupby and summary statistical methods to calculate the following properties of each drug regimen:\n",
    "# mean, median, variance, standard deviation, and SEM of the tumor volume. \n",
    "# Assemble the resulting series into a single summary dataframe.\n",
    "tumor_volume = cleaned_mice_df.groupby([\"Drug Regimen\"])\n",
    "\n",
    "grouped_tumor = tumor_volume[\"Tumor Volume (mm3)\"]\n",
    "mean = round(grouped_tumor.mean(),3)\n",
    "median = round(grouped_tumor.median(),3)\n",
    "variance = round(grouped_tumor.var(),3)\n",
    "standard_deviation = round(grouped_tumor.std(),3)\n",
    "SEM = round(grouped_tumor.sem(),3)\n",
    "\n",
    "summary_df = pd.DataFrame({\"Mean(Tumor Volume)\": mean,\n",
    "                           \"Median(Tumor Volume)\": median,\n",
    "                           \"Variance(Tumor Volume)\": variance,\n",
    "                           \"Standard Deviation(Tumor Volume)\": standard_deviation,\n",
    "                           \"SEM(Tumor Volume)\": SEM})\n",
    "summary_df"
   ]
  },
  {
   "cell_type": "code",
   "execution_count": 7,
   "metadata": {},
   "outputs": [
    {
     "data": {
      "text/html": [
       "<div>\n",
       "<style scoped>\n",
       "    .dataframe tbody tr th:only-of-type {\n",
       "        vertical-align: middle;\n",
       "    }\n",
       "\n",
       "    .dataframe tbody tr th {\n",
       "        vertical-align: top;\n",
       "    }\n",
       "\n",
       "    .dataframe thead th {\n",
       "        text-align: right;\n",
       "    }\n",
       "</style>\n",
       "<table border=\"1\" class=\"dataframe\">\n",
       "  <thead>\n",
       "    <tr style=\"text-align: right;\">\n",
       "      <th></th>\n",
       "      <th>mean</th>\n",
       "      <th>median</th>\n",
       "      <th>var</th>\n",
       "      <th>std</th>\n",
       "      <th>sem</th>\n",
       "    </tr>\n",
       "    <tr>\n",
       "      <th>Drug Regimen</th>\n",
       "      <th></th>\n",
       "      <th></th>\n",
       "      <th></th>\n",
       "      <th></th>\n",
       "      <th></th>\n",
       "    </tr>\n",
       "  </thead>\n",
       "  <tbody>\n",
       "    <tr>\n",
       "      <th>Capomulin</th>\n",
       "      <td>40.676</td>\n",
       "      <td>41.558</td>\n",
       "      <td>24.948</td>\n",
       "      <td>4.995</td>\n",
       "      <td>0.329</td>\n",
       "    </tr>\n",
       "    <tr>\n",
       "      <th>Ceftamin</th>\n",
       "      <td>52.591</td>\n",
       "      <td>51.776</td>\n",
       "      <td>39.290</td>\n",
       "      <td>6.268</td>\n",
       "      <td>0.470</td>\n",
       "    </tr>\n",
       "    <tr>\n",
       "      <th>Infubinol</th>\n",
       "      <td>52.885</td>\n",
       "      <td>51.821</td>\n",
       "      <td>43.129</td>\n",
       "      <td>6.567</td>\n",
       "      <td>0.492</td>\n",
       "    </tr>\n",
       "    <tr>\n",
       "      <th>Ketapril</th>\n",
       "      <td>55.236</td>\n",
       "      <td>53.699</td>\n",
       "      <td>68.554</td>\n",
       "      <td>8.280</td>\n",
       "      <td>0.604</td>\n",
       "    </tr>\n",
       "    <tr>\n",
       "      <th>Naftisol</th>\n",
       "      <td>54.332</td>\n",
       "      <td>52.509</td>\n",
       "      <td>66.173</td>\n",
       "      <td>8.135</td>\n",
       "      <td>0.596</td>\n",
       "    </tr>\n",
       "    <tr>\n",
       "      <th>Placebo</th>\n",
       "      <td>54.034</td>\n",
       "      <td>52.289</td>\n",
       "      <td>61.168</td>\n",
       "      <td>7.821</td>\n",
       "      <td>0.581</td>\n",
       "    </tr>\n",
       "    <tr>\n",
       "      <th>Propriva</th>\n",
       "      <td>52.321</td>\n",
       "      <td>50.446</td>\n",
       "      <td>43.852</td>\n",
       "      <td>6.622</td>\n",
       "      <td>0.544</td>\n",
       "    </tr>\n",
       "    <tr>\n",
       "      <th>Ramicane</th>\n",
       "      <td>40.217</td>\n",
       "      <td>40.673</td>\n",
       "      <td>23.487</td>\n",
       "      <td>4.846</td>\n",
       "      <td>0.321</td>\n",
       "    </tr>\n",
       "    <tr>\n",
       "      <th>Stelasyn</th>\n",
       "      <td>54.233</td>\n",
       "      <td>52.432</td>\n",
       "      <td>59.451</td>\n",
       "      <td>7.710</td>\n",
       "      <td>0.573</td>\n",
       "    </tr>\n",
       "    <tr>\n",
       "      <th>Zoniferol</th>\n",
       "      <td>53.237</td>\n",
       "      <td>51.818</td>\n",
       "      <td>48.533</td>\n",
       "      <td>6.967</td>\n",
       "      <td>0.516</td>\n",
       "    </tr>\n",
       "  </tbody>\n",
       "</table>\n",
       "</div>"
      ],
      "text/plain": [
       "                mean  median     var    std    sem\n",
       "Drug Regimen                                      \n",
       "Capomulin     40.676  41.558  24.948  4.995  0.329\n",
       "Ceftamin      52.591  51.776  39.290  6.268  0.470\n",
       "Infubinol     52.885  51.821  43.129  6.567  0.492\n",
       "Ketapril      55.236  53.699  68.554  8.280  0.604\n",
       "Naftisol      54.332  52.509  66.173  8.135  0.596\n",
       "Placebo       54.034  52.289  61.168  7.821  0.581\n",
       "Propriva      52.321  50.446  43.852  6.622  0.544\n",
       "Ramicane      40.217  40.673  23.487  4.846  0.321\n",
       "Stelasyn      54.233  52.432  59.451  7.710  0.573\n",
       "Zoniferol     53.237  51.818  48.533  6.967  0.516"
      ]
     },
     "execution_count": 7,
     "metadata": {},
     "output_type": "execute_result"
    }
   ],
   "source": [
    "# Generate a summary statistics table of mean, median, variance, standard deviation, and SEM of the tumor volume for each regimen\n",
    "\n",
    "# Using the aggregation method, produce the same summary statistics in a single line\n",
    "summary2 = tumor_volume[\"Tumor Volume (mm3)\"].agg([\"mean\", \"median\", \"var\", \"std\", \"sem\"]).round(3)\n",
    "summary2"
   ]
  },
  {
   "cell_type": "markdown",
   "metadata": {},
   "source": [
    "## Bar and Pie Charts"
   ]
  },
  {
   "cell_type": "code",
   "execution_count": 8,
   "metadata": {},
   "outputs": [
    {
     "data": {
      "text/plain": [
       "<matplotlib.legend.Legend at 0x1d581d370a0>"
      ]
     },
     "execution_count": 8,
     "metadata": {},
     "output_type": "execute_result"
    },
    {
     "data": {
      "image/png": "[encoded data removed]",
      "text/plain": [
       "<Figure size 720x432 with 1 Axes>"
      ]
     },
     "metadata": {
      "needs_background": "light"
     },
     "output_type": "display_data"
    }
   ],
   "source": [
    "# Generate a bar plot showing the total number of timepoints for all mice tested for each drug regimen using Pandas.\n",
    "time = tumor_volume[[\"Timepoint\"]]\n",
    "total_number = time.count()\n",
    "figure1 = total_number.plot(kind=\"bar\", facecolor=\"blue\", figsize=(10,6), xlabel=\"Drug Regimen\",\n",
    "                            ylabel=\"Total Number of Timepoints\", title=\"Total Number of Timepoints by Drug Regimen\")\n",
    "\n",
    "xticklabels = total_number.index\n",
    "figure1.set_xticklabels(xticklabels, rotation=45, ha=\"right\", wrap=True)\n",
    "plt.legend([\"Drug Regimen\"], loc=\"best\")"
   ]
  },
  {
   "cell_type": "code",
   "execution_count": 9,
   "metadata": {},
   "outputs": [
    {
     "data": {
      "text/plain": [
       "(-0.5, 9.5)"
      ]
     },
     "execution_count": 9,
     "metadata": {},
     "output_type": "execute_result"
    },
    {
     "data": {
      "image/png": "[encoded data removed]",
      "text/plain": [
       "<Figure size 720x432 with 1 Axes>"
      ]
     },
     "metadata": {
      "needs_background": "light"
     },
     "output_type": "display_data"
    }
   ],
   "source": [
    "# Generate a bar plot showing the total number of timepoints for all mice tested for each drug regimen using pyplot.\n",
    "new_df = merged_df[[\"Drug Regimen\", \"Timepoint\"]]\n",
    "drug_name = np.arange(len(new_df[\"Drug Regimen\"].unique()))\n",
    "timepoints = tumor_volume[\"Timepoint\"].count()\n",
    "plt.figure(figsize=(10,6))\n",
    "plt.bar(drug_name, timepoints, color=\"blue\", align=\"center\", alpha=1, width=0.5)\n",
    "plt.xticks(drug_name, [\"Capomulin\", \"Ceftamin\", \"Infubinol\", \"Ketapril\", \"Naftisol\", \"Placebo\", \"Propriva\", \"Ramicane\",\n",
    "                       \"Stelasyn\", \"Zoniferol\"], rotation=90)\n",
    "\n",
    "\n",
    "plt.title(\"Total Number of Timepoints by Drug Regimen\")\n",
    "plt.xlabel(\"Drug Regimen\")\n",
    "plt.ylabel(\"Total Number of Timepoints\")\n",
    "plt.legend([\"Drug Regimen\"], loc=\"best\")\n",
    "plt.xlim(-0.5, len(drug_name)-0.5)"
   ]
  },
  {
   "cell_type": "code",
   "execution_count": 10,
   "metadata": {},
   "outputs": [
    {
     "data": {
      "text/plain": [
       "(-1.1303272228198646,\n",
       " 1.1103719980816438,\n",
       " -1.1280182397336957,\n",
       " 1.1095997883291242)"
      ]
     },
     "execution_count": 10,
     "metadata": {},
     "output_type": "execute_result"
    },
    {
     "data": {
      "image/png": "[encoded data removed]",
      "text/plain": [
       "<Figure size 432x288 with 1 Axes>"
      ]
     },
     "metadata": {},
     "output_type": "display_data"
    }
   ],
   "source": [
    "# Generate a pie plot showing the distribution of female versus male mice using Pandas\n",
    "grouped_mice = merged_df.groupby([\"Sex\"])\n",
    "counted_grouped_mice = grouped_mice[\"Mouse ID\"].count()\n",
    "figure_pie = counted_grouped_mice.plot(kind=\"pie\", y=counted_grouped_mice, title=\"Percentage of Mice per Gender\",\n",
    "                                       autopct=\"%1.1f%%\", startangle=100)\n",
    "figure_pie.set_ylabel(\"Gender\")\n",
    "plt.axis(\"equal\")"
   ]
  },
  {
   "cell_type": "code",
   "execution_count": 11,
   "metadata": {},
   "outputs": [
    {
     "data": {
      "image/png": "[encoded data removed]",
      "text/plain": [
       "<Figure size 432x288 with 1 Axes>"
      ]
     },
     "metadata": {},
     "output_type": "display_data"
    }
   ],
   "source": [
    "# Generate a pie plot showing the distribution of female versus male mice using pyplot\n",
    "grouped_mice = merged_df.groupby([\"Sex\"])\n",
    "grouped_mice[\"Mouse ID\"].count()\n",
    "count_per_gender = [935, 958]\n",
    "gender = [\"Female\", \"Male\"]\n",
    "colors = [\"green\", \"orange\"]\n",
    "plt.pie(count_per_gender, colors=colors, labels=gender, autopct=\"%1.1f%%\", startangle=100)\n",
    "plt.axis(\"equal\")\n",
    "plt.title(\"Percentage of Mice per Gender\")\n",
    "plt.ylabel(\"Gender\")\n",
    "plt.show()"
   ]
  },
  {
   "cell_type": "markdown",
   "metadata": {},
   "source": [
    "## Quartiles, Outliers and Boxplots"
   ]
  },
  {
   "cell_type": "code",
   "execution_count": 12,
   "metadata": {},
   "outputs": [
    {
     "data": {
      "text/html": [
       "<div>\n",
       "<style scoped>\n",
       "    .dataframe tbody tr th:only-of-type {\n",
       "        vertical-align: middle;\n",
       "    }\n",
       "\n",
       "    .dataframe tbody tr th {\n",
       "        vertical-align: top;\n",
       "    }\n",
       "\n",
       "    .dataframe thead th {\n",
       "        text-align: right;\n",
       "    }\n",
       "</style>\n",
       "<table border=\"1\" class=\"dataframe\">\n",
       "  <thead>\n",
       "    <tr style=\"text-align: right;\">\n",
       "      <th></th>\n",
       "      <th>Mouse ID</th>\n",
       "      <th>Timepoint</th>\n",
       "      <th>Drug Regimen</th>\n",
       "      <th>Sex</th>\n",
       "      <th>Age_months</th>\n",
       "      <th>Weight (g)</th>\n",
       "      <th>Tumor Volume (mm3)</th>\n",
       "      <th>Metastatic Sites</th>\n",
       "    </tr>\n",
       "  </thead>\n",
       "  <tbody>\n",
       "    <tr>\n",
       "      <th>0</th>\n",
       "      <td>a203</td>\n",
       "      <td>45</td>\n",
       "      <td>Infubinol</td>\n",
       "      <td>Female</td>\n",
       "      <td>20</td>\n",
       "      <td>23</td>\n",
       "      <td>67.973419</td>\n",
       "      <td>2</td>\n",
       "    </tr>\n",
       "    <tr>\n",
       "      <th>1</th>\n",
       "      <td>a251</td>\n",
       "      <td>45</td>\n",
       "      <td>Infubinol</td>\n",
       "      <td>Female</td>\n",
       "      <td>21</td>\n",
       "      <td>25</td>\n",
       "      <td>65.525743</td>\n",
       "      <td>1</td>\n",
       "    </tr>\n",
       "    <tr>\n",
       "      <th>2</th>\n",
       "      <td>a275</td>\n",
       "      <td>45</td>\n",
       "      <td>Ceftamin</td>\n",
       "      <td>Female</td>\n",
       "      <td>20</td>\n",
       "      <td>28</td>\n",
       "      <td>62.999356</td>\n",
       "      <td>3</td>\n",
       "    </tr>\n",
       "    <tr>\n",
       "      <th>3</th>\n",
       "      <td>a411</td>\n",
       "      <td>45</td>\n",
       "      <td>Ramicane</td>\n",
       "      <td>Male</td>\n",
       "      <td>3</td>\n",
       "      <td>22</td>\n",
       "      <td>38.407618</td>\n",
       "      <td>1</td>\n",
       "    </tr>\n",
       "    <tr>\n",
       "      <th>4</th>\n",
       "      <td>a444</td>\n",
       "      <td>45</td>\n",
       "      <td>Ramicane</td>\n",
       "      <td>Female</td>\n",
       "      <td>10</td>\n",
       "      <td>25</td>\n",
       "      <td>43.047543</td>\n",
       "      <td>0</td>\n",
       "    </tr>\n",
       "  </tbody>\n",
       "</table>\n",
       "</div>"
      ],
      "text/plain": [
       "  Mouse ID  Timepoint Drug Regimen     Sex  Age_months  Weight (g)  \\\n",
       "0     a203         45    Infubinol  Female          20          23   \n",
       "1     a251         45    Infubinol  Female          21          25   \n",
       "2     a275         45     Ceftamin  Female          20          28   \n",
       "3     a411         45     Ramicane    Male           3          22   \n",
       "4     a444         45     Ramicane  Female          10          25   \n",
       "\n",
       "   Tumor Volume (mm3)  Metastatic Sites  \n",
       "0           67.973419                 2  \n",
       "1           65.525743                 1  \n",
       "2           62.999356                 3  \n",
       "3           38.407618                 1  \n",
       "4           43.047543                 0  "
      ]
     },
     "execution_count": 12,
     "metadata": {},
     "output_type": "execute_result"
    }
   ],
   "source": [
    "# Calculate the final tumor volume of each mouse across four of the treatment regimens:  \n",
    "# Capomulin, Ramicane, Infubinol, and Ceftamin\n",
    "reduced_treatments = merged_df.loc[(merged_df[\"Drug Regimen\"] == \"Capomulin\") | (merged_df[\"Drug Regimen\"] == \"Ramicane\") |\n",
    "                                   (merged_df[\"Drug Regimen\"] == \"Infubinol\") | (merged_df[\"Drug Regimen\"] == \"Ceftamin\")]\n",
    "\n",
    "# Start by getting the last (greatest) timepoint for each mouse\n",
    "last_timepoint = reduced_treatments.groupby([\"Mouse ID\"])\n",
    "greatest_timepoint = last_timepoint[\"Timepoint\"].max()\n",
    "updated_timepoint_df = pd.DataFrame(greatest_timepoint)\n",
    "reset_updated_timepoint_df = updated_timepoint_df.reset_index()\n",
    "reset_updated_timepoint_df\n",
    "\n",
    "#Merge this group df with the original dataframe to get the tumor volume at the last timepoint\n",
    "updated_merged_df = pd.merge(reset_updated_timepoint_df, merged_df, how=\"left\")\n",
    "updated_merged_df.head()"
   ]
  },
  {
   "cell_type": "code",
   "execution_count": 13,
   "metadata": {},
   "outputs": [],
   "source": [
    "# separate each drug to be able to pull the final tumor volume\n",
    "capomulin = updated_merged_df.loc[updated_merged_df[\"Drug Regimen\"] == \"Capomulin\"]\n",
    "ceftamin = updated_merged_df.loc[updated_merged_df[\"Drug Regimen\"] == \"Ceftamin\"]\n",
    "infubinol = updated_merged_df.loc[updated_merged_df[\"Drug Regimen\"] == \"Infubinol\"]\n",
    "ramicane = updated_merged_df.loc[updated_merged_df[\"Drug Regimen\"] == \"Ramicane\"]\n",
    "\n",
    "capomulin_tumor = capomulin[[\"Tumor Volume (mm3)\"]]\n",
    "ceftamin_tumor = ceftamin[[\"Tumor Volume (mm3)\"]]\n",
    "infubinol_tumor = infubinol[[\"Tumor Volume (mm3)\"]]\n",
    "ramicane_tumor = ramicane[[\"Tumor Volume (mm3)\"]]"
   ]
  },
  {
   "cell_type": "code",
   "execution_count": 14,
   "metadata": {},
   "outputs": [
    {
     "name": "stdout",
     "output_type": "stream",
     "text": [
      "The interquartile range of Capomulin is: 7.782\n",
      "Values below 20.704 could be outliers for Capomulin.\n",
      "Values above 51.832 could be outliers for Capomulin.\n"
     ]
    }
   ],
   "source": [
    "# Calculate the IQR and quantitatively determine if there are any potential outliers. \n",
    "# Capomulin\n",
    "lowerq = np.quantile(capomulin_tumor, 0.25)\n",
    "upperq = np.quantile(capomulin_tumor, 0.75)\n",
    "iqr = round((upperq-lowerq), 3)\n",
    "\n",
    "print(f\"The interquartile range of Capomulin is: {iqr}\")\n",
    "\n",
    "# Determine outliers using upper and lower bounds\n",
    "lower_bound = round(lowerq - (1.5*iqr), 3)\n",
    "upper_bound = round(upperq + (1.5*iqr), 3)\n",
    "\n",
    "print(f\"Values below {lower_bound} could be outliers for Capomulin.\")\n",
    "print(f\"Values above {upper_bound} could be outliers for Capomulin.\")"
   ]
  },
  {
   "cell_type": "code",
   "execution_count": 15,
   "metadata": {},
   "outputs": [
    {
     "name": "stdout",
     "output_type": "stream",
     "text": [
      "The interquartile range of Ceftamin is: 15.578\n",
      "Values below 25.355 could be outliers for Ceftamin.\n",
      "Values above 87.667 could be outliers for Ceftamin.\n"
     ]
    }
   ],
   "source": [
    "# Calculate the IQR and quantitatively determine if there are any potential outliers. \n",
    "# Ceftamin\n",
    "lowerq = np.quantile(ceftamin_tumor, 0.25)\n",
    "upperq = np.quantile(ceftamin_tumor, 0.75)\n",
    "iqr = round((upperq-lowerq), 3)\n",
    "\n",
    "print(f\"The interquartile range of Ceftamin is: {iqr}\")\n",
    "\n",
    "# Determine outliers using upper and lower bounds\n",
    "lower_bound = round(lowerq - (1.5*iqr), 3)\n",
    "upper_bound = round(upperq + (1.5*iqr), 3)\n",
    "\n",
    "print(f\"Values below {lower_bound} could be outliers for Ceftamin.\")\n",
    "print(f\"Values above {upper_bound} could be outliers for Ceftamin.\")"
   ]
  },
  {
   "cell_type": "code",
   "execution_count": 16,
   "metadata": {},
   "outputs": [
    {
     "name": "stdout",
     "output_type": "stream",
     "text": [
      "The interquartile range of Infubinol is: 11.477\n",
      "Values below 36.833 could be outliers for Infubinol.\n",
      "Values above 82.741 could be outliers for Infubinol.\n"
     ]
    }
   ],
   "source": [
    "# Calculate the IQR and quantitatively determine if there are any potential outliers. \n",
    "# Infubinol\n",
    "lowerq = np.quantile(infubinol_tumor, 0.25)\n",
    "upperq = np.quantile(infubinol_tumor, 0.75)\n",
    "iqr = round((upperq-lowerq), 3)\n",
    "\n",
    "print(f\"The interquartile range of Infubinol is: {iqr}\")\n",
    "\n",
    "# Determine outliers using upper and lower bounds\n",
    "lower_bound = round(lowerq - (1.5*iqr), 3)\n",
    "upper_bound = round(upperq + (1.5*iqr), 3)\n",
    "\n",
    "print(f\"Values below {lower_bound} could be outliers for Infubinol.\")\n",
    "print(f\"Values above {upper_bound} could be outliers for Infubinol.\")"
   ]
  },
  {
   "cell_type": "code",
   "execution_count": 17,
   "metadata": {},
   "outputs": [
    {
     "name": "stdout",
     "output_type": "stream",
     "text": [
      "The interquartile range of Ramicane is: 9.099\n",
      "Values below 17.912 could be outliers for Ramicane.\n",
      "Values above 54.308 could be outliers for Ramicane.\n"
     ]
    }
   ],
   "source": [
    "# Calculate the IQR and quantitatively determine if there are any potential outliers. \n",
    "# Ramicane\n",
    "lowerq = np.quantile(ramicane_tumor, 0.25)\n",
    "upperq = np.quantile(ramicane_tumor, 0.75)\n",
    "iqr = round((upperq-lowerq), 3)\n",
    "\n",
    "print(f\"The interquartile range of Ramicane is: {iqr}\")\n",
    "\n",
    "# Determine outliers using upper and lower bounds\n",
    "lower_bound = round(lowerq - (1.5*iqr), 3)\n",
    "upper_bound = round(upperq + (1.5*iqr), 3)\n",
    "\n",
    "print(f\"Values below {lower_bound} could be outliers for Ramicane.\")\n",
    "print(f\"Values above {upper_bound} could be outliers for Ramicane.\")"
   ]
  },
  {
   "cell_type": "code",
   "execution_count": 18,
   "metadata": {},
   "outputs": [
    {
     "data": {
      "image/png": "[encoded data removed]",
      "text/plain": [
       "<Figure size 432x288 with 1 Axes>"
      ]
     },
     "metadata": {
      "needs_background": "light"
     },
     "output_type": "display_data"
    }
   ],
   "source": [
    "# Generate a box plot of the final tumor volume of each mouse across four regimens of interest\n",
    "treatment = [\"Capomulin\", \"Ceftamin\", \"Infubinol\", \"Ramicane\"]\n",
    "tumor_volume = []\n",
    "for drug in treatment:\n",
    "    volume = updated_merged_df.loc[updated_merged_df[\"Drug Regimen\"]==drug][\"Tumor Volume (mm3)\"]\n",
    "    tumor_volume.append(volume)\n",
    "\n",
    "# plot the box plots\n",
    "blue = dict(markerfacecolor='blue', marker='D')\n",
    "fig1, ax1 = plt.subplots()\n",
    "ax1.set_title(\"Tumor Volume by Drug Type\")\n",
    "ax1.set_ylabel(\"Tumor Volume\")\n",
    "ax1.boxplot(tumor_volume, whis=0.50, flierprops=blue)\n",
    "plt.xticks([1, 2, 3, 4], [\"Capomulin\", \"Ceftamin\", \"Infubinol\", \"Ramicane\"])\n",
    "plt.show()"
   ]
  },
  {
   "cell_type": "markdown",
   "metadata": {},
   "source": [
    "## Line and Scatter Plots"
   ]
  },
  {
   "cell_type": "code",
   "execution_count": 19,
   "metadata": {},
   "outputs": [
    {
     "data": {
      "text/plain": [
       "Text(0.5, 1.0, 'Tumor Volume Over Time for One Mouse Treated with Capomulin')"
      ]
     },
     "execution_count": 19,
     "metadata": {},
     "output_type": "execute_result"
    },
    {
     "data": {
      "image/png": "[encoded data removed]",
      "text/plain": [
       "<Figure size 720x432 with 1 Axes>"
      ]
     },
     "metadata": {
      "needs_background": "light"
     },
     "output_type": "display_data"
    }
   ],
   "source": [
    "# Generate a line plot of tumor volume vs. time point for a mouse treated with Capomulin\n",
    "single_capomulin = merged_df.loc[(merged_df[\"Drug Regimen\"] == \"Capomulin\") & (merged_df[\"Mouse ID\"] ==\"s185\")]\n",
    "single_capomulin = single_capomulin[[\"Mouse ID\", \"Drug Regimen\", \"Timepoint\", \"Tumor Volume (mm3)\"]]\n",
    "x_axis = single_capomulin[\"Timepoint\"]\n",
    "y_axis = single_capomulin[\"Tumor Volume (mm3)\"]\n",
    "plt.figure(figsize=(10,6))\n",
    "plt.plot(x_axis, y_axis, color=\"green\", label=\"Mouse ID s185\")\n",
    "plt.legend(loc=\"best\")\n",
    "plt.xlabel(\"Timepoints\")\n",
    "plt.ylabel(\"Tumor Volume(mm3)\")\n",
    "plt.title(\"Tumor Volume Over Time for One Mouse Treated with Capomulin\")"
   ]
  },
  {
   "cell_type": "code",
   "execution_count": 20,
   "metadata": {},
   "outputs": [
    {
     "data": {
      "text/plain": [
       "Text(0, 0.5, 'Average Tumor Volume (mm3)')"
      ]
     },
     "execution_count": 20,
     "metadata": {},
     "output_type": "execute_result"
    },
    {
     "data": {
      "image/png": "[encoded data removed]",
      "text/plain": [
       "<Figure size 720x432 with 1 Axes>"
      ]
     },
     "metadata": {
      "needs_background": "light"
     },
     "output_type": "display_data"
    }
   ],
   "source": [
    "# Generate a scatter plot of average tumor volume vs. mouse weight for the Capomulin regimen\n",
    "capomulin = merged_df.loc[merged_df[\"Drug Regimen\"] == \"Capomulin\"]\n",
    "capomulin = capomulin[[\"Mouse ID\", \"Drug Regimen\", \"Weight (g)\", \"Tumor Volume (mm3)\"]]\n",
    "grouped_cap = capomulin.groupby([\"Mouse ID\", \"Weight (g)\"])\n",
    "average_tumor = grouped_cap[\"Tumor Volume (mm3)\"].mean()\n",
    "reset_average = average_tumor.reset_index()\n",
    "average_tumor_df = pd.DataFrame(reset_average)\n",
    "cap_x_axis = average_tumor_df[\"Weight (g)\"]\n",
    "cap_y_axis = average_tumor_df[\"Tumor Volume (mm3)\"]\n",
    "plt.figure(figsize=(10,6))\n",
    "plt.scatter(cap_x_axis, cap_y_axis, marker=\"o\", facecolors=\"red\", edgecolor=\"black\")\n",
    "plt.title(\"Average Tumor Volume Based on Weight-Capomulin Drug Regimen\")\n",
    "plt.xlabel(\"Weight (g)\")\n",
    "plt.ylabel(\"Average Tumor Volume (mm3)\")"
   ]
  },
  {
   "cell_type": "markdown",
   "metadata": {},
   "source": [
    "## Correlation and Regression"
   ]
  },
  {
   "cell_type": "code",
   "execution_count": 21,
   "metadata": {},
   "outputs": [
    {
     "name": "stdout",
     "output_type": "stream",
     "text": [
      "The correlation between Weight and Average Tumor Volume is 0.842\n",
      "The r-squared is: 0.7088568047708723\n"
     ]
    },
    {
     "data": {
      "image/png": "[encoded data removed]",
      "text/plain": [
       "<Figure size 720x432 with 1 Axes>"
      ]
     },
     "metadata": {
      "needs_background": "light"
     },
     "output_type": "display_data"
    }
   ],
   "source": [
    "# Calculate the correlation coefficient and linear regression model \n",
    "# for mouse weight and average tumor volume for the Capomulin regimen\n",
    "correlation = st.pearsonr(cap_x_axis, cap_y_axis)\n",
    "cap_x_axis = average_tumor_df[\"Weight (g)\"]\n",
    "cap_y_axis = average_tumor_df[\"Tumor Volume (mm3)\"]\n",
    "(slope, intercept, rvalue, pvalue, stderr) = linregress(cap_x_axis, cap_y_axis)\n",
    "regress_values = cap_x_axis * slope + intercept\n",
    "line_eq = \"y = \" + str(round(slope,2)) + \"x + \" + str(round(intercept,2))\n",
    "plt.figure(figsize=(10,6))\n",
    "plt.scatter(cap_x_axis, cap_y_axis, marker=\"o\", facecolors=\"black\")\n",
    "plt.plot(cap_x_axis,regress_values)\n",
    "plt.annotate(line_eq,(20,35),fontsize=15,color=\"red\")\n",
    "plt.title(\"Average Tumor Volume Based on Weight-Capomulin Drug Regimen\")\n",
    "plt.xlabel(\"Weight (g)\")\n",
    "plt.ylabel(\"Average Tumor Volume (mm3)\")\n",
    "print(f\"The correlation between Weight and Average Tumor Volume is {round(correlation[0], 3)}\")\n",
    "print(f\"The r-squared is: {rvalue**2}\")\n",
    "plt.show()"
   ]
  },
  {
   "cell_type": "code",
   "execution_count": null,
   "metadata": {},
   "outputs": [],
   "source": []
  }
 ],
 "metadata": {
  "anaconda-cloud": {},
  "kernelspec": {
   "display_name": "Python 3 (ipykernel)",
   "language": "python",
   "name": "python3"
  },
  "language_info": {
   "codemirror_mode": {
    "name": "ipython",
    "version": 3
   },
   "file_extension": ".py",
   "mimetype": "text/x-python",
   "name": "python",
   "nbconvert_exporter": "python",
   "pygments_lexer": "ipython3",
   "version": "3.9.7"
  }
 },
 "nbformat": 4,
 "nbformat_minor": 4
}
